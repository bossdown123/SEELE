{
 "cells": [
  {
   "cell_type": "code",
   "execution_count": 62,
   "metadata": {},
   "outputs": [
    {
     "name": "stdout",
     "output_type": "stream",
     "text": [
      "The autoreload extension is already loaded. To reload it, use:\n",
      "  %reload_ext autoreload\n"
     ]
    }
   ],
   "source": [
    "%load_ext autoreload\n",
    "%autoreload 2"
   ]
  },
  {
   "cell_type": "code",
   "execution_count": 63,
   "metadata": {},
   "outputs": [],
   "source": [
    "stocks=['MSFT','AAPL','NVDA','GOOGL','AMZN','META','BRK-B','LLY','AVGO','V','JPM','TSLA','WMT','XOM','UNH','MA','PG','JNJ','HD','ORCL','MRK','COST','ABBV','CVX','BAC','CRM','NFLX','KO','AMD','PEP','ADBE','TMO','DIS','WFC','MCD','CSCO','TMUS','ABT','QCOM','CAT','DHR','INTU','GE','IBM','VZ','AMAT','AXP','CMCSA','NOW','COP','INTC','TXN','UBER','BX','MS','PFE','NKE','AMGN','PM','UNP','RTX','ISRG','SPGI','GS','LOW','NEE','MU','SCHW','SYK','HON','PGR','UPS','LRCX','ELV','BKNG','T','BLK','C','DE','LMT','TJX','BA','ABNB','VRTX','BSX','ADP','PLD','CI','SBUX','REGN','MMC','BMY','ADI','PANW','MDLZ','KLAC','SCCO','FI','CVS','DELL','KKR','GILD','WM','HCA','ANET','SNPS','AMT','CMG','CDNS','SHW','GD','EOG','SO','TGT','CME','ITW','ICE','MPC','DUK','MO','SLB','FCX','CL','CRWD','ZTS','EQIX','PH','MCK','MAR','MCO','TDG','CTAS','WDAY','PSX','BDX','APH','NOC','CSX','PYPL','FDX','ORLY','EMR','ECL','PXD','USB','EPD','APO','PCAR','RSG','PNC','OXY','CEG','MRVL','MSI','MNST','ROP','SMCI','VLO','NSC','DASH','EW','COF','CPRT','COIN','DXCM','ET','WELL','APD','AZO','HLT','MMM','AJG','MET','SNOW','EL','AIG','FTNT','GM','CARR','DHI','COR','TFC','TRV','STZ','F','GWW','NUE','HES','AFL','PSA','IBKR','ADSK','MCHP','SPG','WMB','ODFL','OKE','SQ','PLTR']\n",
    "stocks=[stock.replace('-','.') for stock in stocks][:100]"
   ]
  },
  {
   "cell_type": "code",
   "execution_count": 64,
   "metadata": {},
   "outputs": [],
   "source": [
    "from order_routerv2 import *\n",
    "import tensorflow as tf\n",
    "from keras.models import load_model\n",
    "from utils import*\n",
    "from concurrent.futures import ThreadPoolExecutor,ProcessPoolExecutor\n",
    "from datetime import*\n",
    "import pickle as pkl\n",
    "\n",
    "\n",
    "from alpaca.data.historical import *\n",
    "from alpaca.data.requests import *\n",
    "from alpaca.data.timeframe import *\n",
    "from alpaca.data.enums import *\n",
    "from alpaca.trading.client import *\n",
    "from alpaca.trading.requests import * \n",
    "from alpaca.trading.enums import *\n",
    "\n",
    "with open('multi_scaler3.pkl','rb') as f:\n",
    "    multi_scaler=pkl.load(f)\n",
    "with open('encoder.pkl','rb') as f:\n",
    "    encoder=pkl.load(f)\n",
    "    \n"
   ]
  },
  {
   "cell_type": "code",
   "execution_count": 59,
   "metadata": {},
   "outputs": [],
   "source": [
    "trader=Trader(model=load_model('model3.keras'),multi_scaler=multi_scaler,encoder=encoder)\n"
   ]
  },
  {
   "cell_type": "code",
   "execution_count": 119,
   "metadata": {},
   "outputs": [
    {
     "data": {
      "text/plain": [
       "symbol\n",
       "AAPL    169.60\n",
       "ABBV    159.62\n",
       "ABNB    164.01\n",
       "ABT     107.50\n",
       "ADBE    477.64\n",
       "         ...  \n",
       "VRTX    397.48\n",
       "VZ       39.67\n",
       "WFC      59.96\n",
       "WMT      60.16\n",
       "XOM     118.04\n",
       "Name: close, Length: 100, dtype: float64"
      ]
     },
     "execution_count": 119,
     "metadata": {},
     "output_type": "execute_result"
    }
   ],
   "source": [
    "bars.groupby('symbol').last()['close']"
   ]
  },
  {
   "cell_type": "code",
   "execution_count": 121,
   "metadata": {},
   "outputs": [
    {
     "name": "stdout",
     "output_type": "stream",
     "text": [
      "1/1 [==============================] - 0s 404ms/step\n",
      "[1 1 0 1 0 0 1 1 0 0 1 0 1 1 1 0 1 1 0 1 1 0 0 1 1 0 0 1 0 1 1 0 0 1 1 1 0\n",
      " 1 1 1 1 1 1 0 1 1 1 1 0 1 1 1 1 0 1 1 0 1 1 1 1 1 1 1 1 1 0 1 1 0 1 1 1 1\n",
      " 1 1 1 1 1 1 1 1 1 1 1 1 1 1 1 0 1 1 0 1 1 1 1 1 1 1]\n",
      "0.76% long\n"
     ]
    },
    {
     "ename": "TypeError",
     "evalue": "'type' object is not iterable",
     "output_type": "error",
     "traceback": [
      "\u001b[0;31m---------------------------------------------------------------------------\u001b[0m",
      "\u001b[0;31mTypeError\u001b[0m                                 Traceback (most recent call last)",
      "Cell \u001b[0;32mIn[121], line 4\u001b[0m\n\u001b[1;32m      2\u001b[0m arrs\u001b[38;5;241m=\u001b[39mtrader\u001b[38;5;241m.\u001b[39mpreprocess_bars_v2(bars,stocks)\n\u001b[1;32m      3\u001b[0m predictions\u001b[38;5;241m=\u001b[39mtrader\u001b[38;5;241m.\u001b[39mpredict(arrs)\n\u001b[0;32m----> 4\u001b[0m trades\u001b[38;5;241m=\u001b[39m\u001b[38;5;28mdict\u001b[39m(\u001b[38;5;28;43mzip\u001b[39;49m\u001b[43m(\u001b[49m\u001b[43mstocks\u001b[49m\u001b[43m,\u001b[49m\u001b[43mpredictions\u001b[49m\u001b[43m,\u001b[49m\u001b[38;5;28;43mlist\u001b[39;49m\u001b[43m)\u001b[49m)\n",
      "\u001b[0;31mTypeError\u001b[0m: 'type' object is not iterable"
     ]
    }
   ],
   "source": [
    "bars=trader.get_bars(stocks,datetime.now())\n",
    "arrs=trader.preprocess_bars_v2(bars,stocks)\n",
    "predictions=trader.predict(arrs)\n",
    "trades=dict(zip(stocks,predictions))\n"
   ]
  },
  {
   "cell_type": "code",
   "execution_count": 103,
   "metadata": {},
   "outputs": [
    {
     "data": {
      "text/plain": [
       "array([1, 1, 0, 1, 0, 0, 1, 1, 0, 0, 1, 0, 1, 1, 1, 0, 1, 1, 0, 1, 1, 0,\n",
       "       0, 1, 1, 0, 0, 1, 0, 1, 1, 0, 0, 1, 1, 1, 0, 1, 1, 1, 1, 1, 1, 0,\n",
       "       1, 1, 1, 1, 0, 1, 1, 1, 1, 0, 1, 1, 0, 1, 1, 1, 1, 1, 1, 1, 1, 1,\n",
       "       0, 1, 1, 0, 1, 1, 1, 1, 1, 1, 1, 1, 1, 1, 1, 1, 1, 1, 1, 1, 1, 1,\n",
       "       1, 0, 1, 1, 0, 1, 1, 1, 1, 1, 1, 1])"
      ]
     },
     "execution_count": 103,
     "metadata": {},
     "output_type": "execute_result"
    }
   ],
   "source": [
    "predictions"
   ]
  },
  {
   "cell_type": "code",
   "execution_count": 81,
   "metadata": {},
   "outputs": [
    {
     "ename": "IndentationError",
     "evalue": "unexpected indent (4101356607.py, line 2)",
     "output_type": "error",
     "traceback": [
      "\u001b[0;36m  Cell \u001b[0;32mIn[81], line 2\u001b[0;36m\u001b[0m\n\u001b[0;31m    with multiprocessing.Pool(int(multiprocessing.cpu_count())) as p:\u001b[0m\n\u001b[0m    ^\u001b[0m\n\u001b[0;31mIndentationError\u001b[0m\u001b[0;31m:\u001b[0m unexpected indent\n"
     ]
    }
   ],
   "source": [
    "import multiprocessing\n",
    "    with multiprocessing.Pool(int(multiprocessing.cpu_count())) as p:\n",
    "    results = [p.apply_async(preprocess,args=[]) for x in ]\n",
    "    \n",
    "    for result in results:\n",
    "        result.get()\n",
    "        \n",
    "\n",
    "\n"
   ]
  },
  {
   "cell_type": "code",
   "execution_count": 92,
   "metadata": {},
   "outputs": [
    {
     "data": {
      "text/html": [
       "<div>\n",
       "<style scoped>\n",
       "    .dataframe tbody tr th:only-of-type {\n",
       "        vertical-align: middle;\n",
       "    }\n",
       "\n",
       "    .dataframe tbody tr th {\n",
       "        vertical-align: top;\n",
       "    }\n",
       "\n",
       "    .dataframe thead th {\n",
       "        text-align: right;\n",
       "    }\n",
       "</style>\n",
       "<table border=\"1\" class=\"dataframe\">\n",
       "  <thead>\n",
       "    <tr style=\"text-align: right;\">\n",
       "      <th></th>\n",
       "      <th></th>\n",
       "      <th>open</th>\n",
       "      <th>high</th>\n",
       "      <th>low</th>\n",
       "      <th>close</th>\n",
       "      <th>volume</th>\n",
       "    </tr>\n",
       "    <tr>\n",
       "      <th>symbol</th>\n",
       "      <th>timestamp</th>\n",
       "      <th></th>\n",
       "      <th></th>\n",
       "      <th></th>\n",
       "      <th></th>\n",
       "      <th></th>\n",
       "    </tr>\n",
       "  </thead>\n",
       "  <tbody>\n",
       "    <tr>\n",
       "      <th rowspan=\"5\" valign=\"top\">AAPL</th>\n",
       "      <th>2024-04-12 20:00:00+00:00</th>\n",
       "      <td>176.570</td>\n",
       "      <td>176.74</td>\n",
       "      <td>176.54</td>\n",
       "      <td>176.700</td>\n",
       "      <td>11196573</td>\n",
       "    </tr>\n",
       "    <tr>\n",
       "      <th>2024-04-12 20:15:00+00:00</th>\n",
       "      <td>176.740</td>\n",
       "      <td>176.92</td>\n",
       "      <td>176.55</td>\n",
       "      <td>176.900</td>\n",
       "      <td>67294</td>\n",
       "    </tr>\n",
       "    <tr>\n",
       "      <th>2024-04-12 20:30:00+00:00</th>\n",
       "      <td>176.930</td>\n",
       "      <td>176.94</td>\n",
       "      <td>176.55</td>\n",
       "      <td>176.910</td>\n",
       "      <td>102702</td>\n",
       "    </tr>\n",
       "    <tr>\n",
       "      <th>2024-04-12 20:45:00+00:00</th>\n",
       "      <td>176.920</td>\n",
       "      <td>176.92</td>\n",
       "      <td>176.85</td>\n",
       "      <td>176.910</td>\n",
       "      <td>104037</td>\n",
       "    </tr>\n",
       "    <tr>\n",
       "      <th>2024-04-12 21:00:00+00:00</th>\n",
       "      <td>176.910</td>\n",
       "      <td>176.99</td>\n",
       "      <td>176.88</td>\n",
       "      <td>176.910</td>\n",
       "      <td>22518</td>\n",
       "    </tr>\n",
       "    <tr>\n",
       "      <th>...</th>\n",
       "      <th>...</th>\n",
       "      <td>...</td>\n",
       "      <td>...</td>\n",
       "      <td>...</td>\n",
       "      <td>...</td>\n",
       "      <td>...</td>\n",
       "    </tr>\n",
       "    <tr>\n",
       "      <th rowspan=\"5\" valign=\"top\">TSLA</th>\n",
       "      <th>2024-04-17 19:15:00+00:00</th>\n",
       "      <td>156.690</td>\n",
       "      <td>157.15</td>\n",
       "      <td>156.21</td>\n",
       "      <td>156.250</td>\n",
       "      <td>2126073</td>\n",
       "    </tr>\n",
       "    <tr>\n",
       "      <th>2024-04-17 19:30:00+00:00</th>\n",
       "      <td>156.260</td>\n",
       "      <td>156.58</td>\n",
       "      <td>155.83</td>\n",
       "      <td>156.320</td>\n",
       "      <td>2058991</td>\n",
       "    </tr>\n",
       "    <tr>\n",
       "      <th>2024-04-17 19:45:00+00:00</th>\n",
       "      <td>156.310</td>\n",
       "      <td>156.46</td>\n",
       "      <td>155.30</td>\n",
       "      <td>155.425</td>\n",
       "      <td>3558174</td>\n",
       "    </tr>\n",
       "    <tr>\n",
       "      <th>2024-04-17 20:00:00+00:00</th>\n",
       "      <td>155.450</td>\n",
       "      <td>155.56</td>\n",
       "      <td>154.60</td>\n",
       "      <td>154.748</td>\n",
       "      <td>2934872</td>\n",
       "    </tr>\n",
       "    <tr>\n",
       "      <th>2024-04-17 20:15:00+00:00</th>\n",
       "      <td>154.747</td>\n",
       "      <td>155.45</td>\n",
       "      <td>154.69</td>\n",
       "      <td>154.700</td>\n",
       "      <td>47794</td>\n",
       "    </tr>\n",
       "  </tbody>\n",
       "</table>\n",
       "<p>907 rows × 5 columns</p>\n",
       "</div>"
      ],
      "text/plain": [
       "                                     open    high     low    close    volume\n",
       "symbol timestamp                                                            \n",
       "AAPL   2024-04-12 20:00:00+00:00  176.570  176.74  176.54  176.700  11196573\n",
       "       2024-04-12 20:15:00+00:00  176.740  176.92  176.55  176.900     67294\n",
       "       2024-04-12 20:30:00+00:00  176.930  176.94  176.55  176.910    102702\n",
       "       2024-04-12 20:45:00+00:00  176.920  176.92  176.85  176.910    104037\n",
       "       2024-04-12 21:00:00+00:00  176.910  176.99  176.88  176.910     22518\n",
       "...                                   ...     ...     ...      ...       ...\n",
       "TSLA   2024-04-17 19:15:00+00:00  156.690  157.15  156.21  156.250   2126073\n",
       "       2024-04-17 19:30:00+00:00  156.260  156.58  155.83  156.320   2058991\n",
       "       2024-04-17 19:45:00+00:00  156.310  156.46  155.30  155.425   3558174\n",
       "       2024-04-17 20:00:00+00:00  155.450  155.56  154.60  154.748   2934872\n",
       "       2024-04-17 20:15:00+00:00  154.747  155.45  154.69  154.700     47794\n",
       "\n",
       "[907 rows x 5 columns]"
      ]
     },
     "execution_count": 92,
     "metadata": {},
     "output_type": "execute_result"
    }
   ],
   "source": [
    "res = supabase.table('DataStream') \\\n",
    "    .select('S','o','h','l','c','v','t') \\\n",
    "    .in_('S',stocks) \\\n",
    "    .gte('t',datetime.now()-timedelta(days=37)) \\\n",
    "    .lte('t',datetime.now()) \\\n",
    "    .order('t',desc=False) \\\n",
    "    .execute()\n",
    "bars=pd.DataFrame(res.model_dump()['data']).rename(columns={'S':'symbol','o':'open','h':'high','l':'low','c':'close','v':'volume','t':'timestamp'}).assign(timestamp=lambda x:pd.to_datetime(x.timestamp)).set_index(['symbol','timestamp']).sort_index()\n",
    "bars"
   ]
  },
  {
   "cell_type": "code",
   "execution_count": 73,
   "metadata": {},
   "outputs": [
    {
     "data": {
      "text/plain": [
       "{'AAPL': {   'ask_exchange': 'P',\n",
       "     'ask_price': 169.7,\n",
       "     'ask_size': 11.0,\n",
       "     'bid_exchange': 'P',\n",
       "     'bid_price': 169.6,\n",
       "     'bid_size': 17.0,\n",
       "     'conditions': ['R'],\n",
       "     'symbol': 'AAPL',\n",
       "     'tape': 'C',\n",
       "     'timestamp': datetime.datetime(2024, 4, 26, 23, 59, 32, 341086, tzinfo=TzInfo(UTC))}}"
      ]
     },
     "execution_count": 73,
     "metadata": {},
     "output_type": "execute_result"
    }
   ],
   "source": [
    "trader.client.get_stock_latest_quote(StockLatestQuoteRequest(symbol_or_symbols='AAPL',feed='sip'))\n"
   ]
  },
  {
   "cell_type": "code",
   "execution_count": 74,
   "metadata": {},
   "outputs": [
    {
     "data": {
      "text/html": [
       "<div>\n",
       "<style scoped>\n",
       "    .dataframe tbody tr th:only-of-type {\n",
       "        vertical-align: middle;\n",
       "    }\n",
       "\n",
       "    .dataframe tbody tr th {\n",
       "        vertical-align: top;\n",
       "    }\n",
       "\n",
       "    .dataframe thead th {\n",
       "        text-align: right;\n",
       "    }\n",
       "</style>\n",
       "<table border=\"1\" class=\"dataframe\">\n",
       "  <thead>\n",
       "    <tr style=\"text-align: right;\">\n",
       "      <th></th>\n",
       "    </tr>\n",
       "  </thead>\n",
       "  <tbody>\n",
       "  </tbody>\n",
       "</table>\n",
       "</div>"
      ],
      "text/plain": [
       "Empty DataFrame\n",
       "Columns: []\n",
       "Index: []"
      ]
     },
     "execution_count": 74,
     "metadata": {},
     "output_type": "execute_result"
    }
   ],
   "source": [
    "bars"
   ]
  },
  {
   "cell_type": "code",
   "execution_count": null,
   "metadata": {},
   "outputs": [],
   "source": []
  }
 ],
 "metadata": {
  "kernelspec": {
   "display_name": "Python 3",
   "language": "python",
   "name": "python3"
  },
  "language_info": {
   "codemirror_mode": {
    "name": "ipython",
    "version": 3
   },
   "file_extension": ".py",
   "mimetype": "text/x-python",
   "name": "python",
   "nbconvert_exporter": "python",
   "pygments_lexer": "ipython3",
   "version": "3.11.8"
  }
 },
 "nbformat": 4,
 "nbformat_minor": 2
}
