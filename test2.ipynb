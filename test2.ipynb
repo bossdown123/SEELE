{
 "cells": [
  {
   "cell_type": "code",
   "execution_count": 1,
   "metadata": {},
   "outputs": [],
   "source": [
    "%load_ext autoreload\n",
    "%autoreload 2"
   ]
  },
  {
   "cell_type": "code",
   "execution_count": 2,
   "metadata": {},
   "outputs": [],
   "source": [
    "stocks=['MSFT','AAPL','NVDA','GOOGL','AMZN','META','BRK-B','LLY','AVGO','V','JPM','TSLA','WMT','XOM','UNH','MA','PG','JNJ','HD','ORCL','MRK','COST','ABBV','CVX','BAC','CRM','NFLX','KO','AMD','PEP','ADBE','TMO','DIS','WFC','MCD','CSCO','TMUS','ABT','QCOM','CAT','DHR','INTU','GE','IBM','VZ','AMAT','AXP','CMCSA','NOW','COP','INTC','TXN','UBER','BX','MS','PFE','NKE','AMGN','PM','UNP','RTX','ISRG','SPGI','GS','LOW','NEE','MU','SCHW','SYK','HON','PGR','UPS','LRCX','ELV','BKNG','T','BLK','C','DE','LMT','TJX','BA','ABNB','VRTX','BSX','ADP','PLD','CI','SBUX','REGN','MMC','BMY','ADI','PANW','MDLZ','KLAC','SCCO','FI','CVS','DELL','KKR','GILD','WM','HCA','ANET','SNPS','AMT','CMG','CDNS','SHW','GD','EOG','SO','TGT','CME','ITW','ICE','MPC','DUK','MO','SLB','FCX','CL','CRWD','ZTS','EQIX','PH','MCK','MAR','MCO','TDG','CTAS','WDAY','PSX','BDX','APH','NOC','CSX','PYPL','FDX','ORLY','EMR','ECL','PXD','USB','EPD','APO','PCAR','RSG','PNC','OXY','CEG','MRVL','MSI','MNST','ROP','SMCI','VLO','NSC','DASH','EW','COF','CPRT','COIN','DXCM','ET','WELL','APD','AZO','HLT','MMM','AJG','MET','SNOW','EL','AIG','FTNT','GM','CARR','DHI','COR','TFC','TRV','STZ','F','GWW','NUE','HES','AFL','PSA','IBKR','ADSK','MCHP','SPG','WMB','ODFL','OKE','SQ','PLTR']\n",
    "stocks=[stock.replace('-','.') for stock in stocks][:100]"
   ]
  },
  {
   "cell_type": "code",
   "execution_count": 3,
   "metadata": {},
   "outputs": [],
   "source": [
    "from order_routerv2 import *\n",
    "import tensorflow as tf\n",
    "from keras.models import load_model\n",
    "from utils import*\n",
    "from concurrent.futures import ThreadPoolExecutor,ProcessPoolExecutor\n",
    "from datetime import*\n",
    "import pickle as pkl\n",
    "\n",
    "\n",
    "from alpaca.data.historical import *\n",
    "from alpaca.data.requests import *\n",
    "from alpaca.data.timeframe import *\n",
    "from alpaca.data.enums import *\n",
    "from alpaca.trading.client import *\n",
    "from alpaca.trading.requests import * \n",
    "from alpaca.trading.enums import *\n",
    "\n",
    "with open('multi_scaler3.pkl','rb') as f:\n",
    "    multi_scaler=pkl.load(f)\n",
    "with open('encoder.pkl','rb') as f:\n",
    "    encoder=pkl.load(f)\n",
    "    \n"
   ]
  },
  {
   "cell_type": "code",
   "execution_count": 153,
   "metadata": {},
   "outputs": [],
   "source": [
    "trader=Trader(model=load_model('model3.keras'),multi_scaler=multi_scaler,encoder=encoder)\n"
   ]
  },
  {
   "cell_type": "code",
   "execution_count": 162,
   "metadata": {},
   "outputs": [],
   "source": [
    "def rd(dt):\n",
    "    # Extract minutes, seconds, and microseconds\n",
    "    minute = dt.minute\n",
    "    seconds = dt.second\n",
    "    microseconds = dt.microsecond\n",
    "    \n",
    "    # Find how many minutes to subtract to round down to the nearest 15-minute interval\n",
    "    minute_to_subtract = minute % 15\n",
    "    \n",
    "    # Subtract the extra minutes, all seconds, and all microseconds\n",
    "    rounded_dt = dt - timedelta(minutes=minute_to_subtract, seconds=seconds, microseconds=microseconds)"
   ]
  },
  {
   "cell_type": "code",
   "execution_count": 1,
   "metadata": {},
   "outputs": [
    {
     "ename": "NameError",
     "evalue": "name 'datetime' is not defined",
     "output_type": "error",
     "traceback": [
      "\u001b[0;31m---------------------------------------------------------------------------\u001b[0m",
      "\u001b[0;31mNameError\u001b[0m                                 Traceback (most recent call last)",
      "Cell \u001b[0;32mIn[1], line 8\u001b[0m\n\u001b[1;32m      5\u001b[0m     \u001b[38;5;28;01mreturn\u001b[39;00m datetime\u001b[38;5;241m.\u001b[39mfromtimestamp(np\u001b[38;5;241m.\u001b[39mfloor(dt\u001b[38;5;241m.\u001b[39mtimestamp()\u001b[38;5;241m/\u001b[39m(t\u001b[38;5;241m*\u001b[39m\u001b[38;5;241m60\u001b[39m))\u001b[38;5;241m*\u001b[39m(t\u001b[38;5;241m*\u001b[39m\u001b[38;5;241m60\u001b[39m),timezone\u001b[38;5;241m.\u001b[39mutc)\n\u001b[1;32m      7\u001b[0m \u001b[38;5;28;01mwhile\u001b[39;00m \u001b[38;5;28;01mTrue\u001b[39;00m:\n\u001b[0;32m----> 8\u001b[0m     dt\u001b[38;5;241m=\u001b[39m\u001b[43mdatetime\u001b[49m\u001b[38;5;241m.\u001b[39mnow(timezone\u001b[38;5;241m.\u001b[39mutc)\n\u001b[1;32m      9\u001b[0m     \u001b[38;5;28;01mif\u001b[39;00m dt\u001b[38;5;241m.\u001b[39mminute \u001b[38;5;129;01min\u001b[39;00m [\u001b[38;5;241m00\u001b[39m,\u001b[38;5;241m15\u001b[39m,\u001b[38;5;241m30\u001b[39m,\u001b[38;5;241m45\u001b[39m]:\n\u001b[1;32m     11\u001b[0m         positions\u001b[38;5;241m=\u001b[39m{i\u001b[38;5;241m.\u001b[39msymbol:i \u001b[38;5;28;01mfor\u001b[39;00m i \u001b[38;5;129;01min\u001b[39;00m trader\u001b[38;5;241m.\u001b[39mtrading_client\u001b[38;5;241m.\u001b[39mget_all_positions()}\n",
      "\u001b[0;31mNameError\u001b[0m: name 'datetime' is not defined"
     ]
    }
   ],
   "source": [
    "from time import sleep\n",
    "from IPython.display import clear_output\n",
    "from datetime import *\n",
    "def rd(dt,t):\n",
    "    return datetime.fromtimestamp(np.floor(dt.timestamp()/(t*60))*(t*60),timezone.utc)\n",
    "\n",
    "while True:\n",
    "    dt=datetime.now(timezone.utc)\n",
    "    if dt.minute in [00,15,30,45]:\n",
    "                \n",
    "        positions={i.symbol:i for i in trader.trading_client.get_all_positions()}\n",
    "        bars=trader.get_bars(stocks,rd(datetime.now(timezone.utc)))\n",
    "        arrs=trader.preprocess_bars_v2(bars,stocks)\n",
    "        predictions=trader.predict(arrs)\n",
    "        trades=dict(zip(stocks,predictions))\n",
    "        prices=bars.groupby('symbol').last()['close'].to_dict()\n",
    "        orders=trader.generate_orders(trades,prices,positions)\n",
    "        trader.trading_client.cancel_orders()\n",
    "        trader.execute(orders[:])\n",
    "        print('done')\n",
    "        sleep(60)\n",
    "    else:\n",
    "        clear_output(wait=True)\n",
    "        print('sleeping ',dt)\n",
    "        sleep(.1)"
   ]
  },
  {
   "cell_type": "code",
   "execution_count": 3,
   "metadata": {},
   "outputs": [
    {
     "name": "stdout",
     "output_type": "stream",
     "text": [
      "1714411602.102352\n"
     ]
    }
   ],
   "source": [
    "def rd(dt):\n",
    "    dt=dt.timestamp()\n",
    "    return dt\n",
    "dt=datetime.now()\n",
    "print(rd(dt))"
   ]
  },
  {
   "cell_type": "code",
   "execution_count": 4,
   "metadata": {},
   "outputs": [],
   "source": [
    "from datetime import *"
   ]
  },
  {
   "cell_type": "code",
   "execution_count": 25,
   "metadata": {},
   "outputs": [
    {
     "data": {
      "text/plain": [
       "datetime.datetime(2024, 4, 29, 17, 30, tzinfo=datetime.timezone.utc)"
      ]
     },
     "execution_count": 25,
     "metadata": {},
     "output_type": "execute_result"
    }
   ],
   "source": [
    "def rd(dt,t):\n",
    "    return datetime.fromtimestamp(np.floor(dt.timestamp()/(t*60))*(t*60),timezone.utc)\n"
   ]
  },
  {
   "cell_type": "code",
   "execution_count": 19,
   "metadata": {},
   "outputs": [],
   "source": [
    "import numpy as np"
   ]
  },
  {
   "cell_type": "code",
   "execution_count": null,
   "metadata": {},
   "outputs": [],
   "source": []
  }
 ],
 "metadata": {
  "kernelspec": {
   "display_name": "Python 3",
   "language": "python",
   "name": "python3"
  },
  "language_info": {
   "codemirror_mode": {
    "name": "ipython",
    "version": 3
   },
   "file_extension": ".py",
   "mimetype": "text/x-python",
   "name": "python",
   "nbconvert_exporter": "python",
   "pygments_lexer": "ipython3",
   "version": "3.11.8"
  }
 },
 "nbformat": 4,
 "nbformat_minor": 2
}
