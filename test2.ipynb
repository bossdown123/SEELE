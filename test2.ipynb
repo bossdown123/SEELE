{
 "cells": [
  {
   "cell_type": "code",
   "execution_count": 1,
   "metadata": {},
   "outputs": [],
   "source": [
    "%load_ext autoreload\n",
    "%autoreload 2"
   ]
  },
  {
   "cell_type": "code",
   "execution_count": 5,
   "metadata": {},
   "outputs": [],
   "source": [
    "stocks=['MSFT','AAPL','NVDA','GOOGL','AMZN','META','BRK-B','LLY','AVGO','V','JPM','TSLA','WMT','XOM','UNH','MA','PG','JNJ','HD','ORCL','MRK','COST','ABBV','CVX','BAC','CRM','NFLX','KO','AMD','PEP','ADBE','TMO','DIS','WFC','MCD','CSCO','TMUS','ABT','QCOM','CAT','DHR','INTU','GE','IBM','VZ','AMAT','AXP','CMCSA','NOW','COP','INTC','TXN','UBER','BX','MS','PFE','NKE','AMGN','PM','UNP','RTX','ISRG','SPGI','GS','LOW','NEE','MU','SCHW','SYK','HON','PGR','UPS','LRCX','ELV','BKNG','T','BLK','C','DE','LMT','TJX','BA','ABNB','VRTX','BSX','ADP','PLD','CI','SBUX','REGN','MMC','BMY','ADI','PANW','MDLZ','KLAC','SCCO','FI','CVS','DELL','KKR','GILD','WM','HCA','ANET','SNPS','AMT','CMG','CDNS','SHW','GD','EOG','SO','TGT','CME','ITW','ICE','MPC','DUK','MO','SLB','FCX','CL','CRWD','ZTS','EQIX','PH','MCK','MAR','MCO','TDG','CTAS','WDAY','PSX','BDX','APH','NOC','CSX','PYPL','FDX','ORLY','EMR','ECL','PXD','USB','EPD','APO','PCAR','RSG','PNC','OXY','CEG','MRVL','MSI','MNST','ROP','SMCI','VLO','NSC','DASH','EW','COF','CPRT','COIN','DXCM','ET','WELL','APD','AZO','HLT','MMM','AJG','MET','SNOW','EL','AIG','FTNT','GM','CARR','DHI','COR','TFC','TRV','STZ','F','GWW','NUE','HES','AFL','PSA','IBKR','ADSK','MCHP','SPG','WMB','ODFL','OKE','SQ','PLTR']\n",
    "stocks=[stock.replace('-','.') for stock in stocks][:100]"
   ]
  },
  {
   "cell_type": "code",
   "execution_count": 1,
   "metadata": {},
   "outputs": [],
   "source": [
    "from order_routerv2 import *\n",
    "import tensorflow as tf\n",
    "from keras.models import load_model\n",
    "from utils import*\n",
    "from concurrent.futures import ThreadPoolExecutor,ProcessPoolExecutor\n",
    "from datetime import*\n",
    "import pickle as pkl\n",
    "\n",
    "\n",
    "from alpaca.data.historical import *\n",
    "from alpaca.data.requests import *\n",
    "from alpaca.data.timeframe import *\n",
    "from alpaca.data.enums import *\n",
    "from alpaca.trading.client import *\n",
    "from alpaca.trading.requests import * \n",
    "from alpaca.trading.enums import *\n",
    "\n",
    "with open('multi_scaler3.pkl','rb') as f:\n",
    "    multi_scaler=pkl.load(f)\n",
    "with open('encoder.pkl','rb') as f:\n",
    "    encoder=pkl.load(f)\n",
    "    \n"
   ]
  },
  {
   "cell_type": "code",
   "execution_count": 2,
   "metadata": {},
   "outputs": [],
   "source": [
    "trader=Trader(model=load_model('model3.keras'),multi_scaler=multi_scaler,encoder=encoder)\n"
   ]
  },
  {
   "cell_type": "code",
   "execution_count": 5,
   "metadata": {},
   "outputs": [
    {
     "ename": "NameError",
     "evalue": "name 'bars' is not defined",
     "output_type": "error",
     "traceback": [
      "\u001b[0;31m---------------------------------------------------------------------------\u001b[0m",
      "\u001b[0;31mNameError\u001b[0m                                 Traceback (most recent call last)",
      "Cell \u001b[0;32mIn[5], line 1\u001b[0m\n\u001b[0;32m----> 1\u001b[0m \u001b[43mbars\u001b[49m\u001b[38;5;241m.\u001b[39mgroupby(\u001b[38;5;124m'\u001b[39m\u001b[38;5;124msymbol\u001b[39m\u001b[38;5;124m'\u001b[39m)\u001b[38;5;241m.\u001b[39mlast()[\u001b[38;5;124m'\u001b[39m\u001b[38;5;124mclose\u001b[39m\u001b[38;5;124m'\u001b[39m]\n",
      "\u001b[0;31mNameError\u001b[0m: name 'bars' is not defined"
     ]
    }
   ],
   "source": [
    "bars.groupby('symbol').last()['close']"
   ]
  },
  {
   "cell_type": "code",
   "execution_count": 3,
   "metadata": {},
   "outputs": [],
   "source": [
    "positions={i.symbol:i for i in trader.trading_client.get_all_positions()}\n"
   ]
  },
  {
   "cell_type": "code",
   "execution_count": 6,
   "metadata": {},
   "outputs": [
    {
     "name": "stdout",
     "output_type": "stream",
     "text": [
      "1/1 [==============================] - 2s 2s/step\n",
      "[1 1 0 1 0 0 1 1 0 0 1 0 1 1 1 0 1 1 0 1 1 0 0 1 1 0 0 1 0 1 1 0 0 1 1 1 0\n",
      " 1 1 1 1 1 1 0 1 1 1 1 0 1 1 1 1 0 1 1 0 1 1 1 1 1 1 1 1 1 0 1 1 0 1 1 1 1\n",
      " 1 1 1 1 1 1 1 1 1 1 1 1 1 1 1 0 1 1 0 1 1 1 1 1 1 1]\n",
      "0.76% long\n"
     ]
    }
   ],
   "source": [
    "bars=trader.get_bars(stocks,datetime.now())\n",
    "arrs=trader.preprocess_bars_v2(bars,stocks)\n",
    "predictions=trader.predict(arrs)\n",
    "trades=dict(zip(stocks,predictions))\n",
    "prices=bars.groupby('symbol').last()['close'].to_dict()\n"
   ]
  },
  {
   "cell_type": "code",
   "execution_count": 7,
   "metadata": {},
   "outputs": [
    {
     "name": "stdout",
     "output_type": "stream",
     "text": [
      "MSFT\n",
      "AAPL\n",
      "NVDA\n",
      "GOOGL\n",
      "AMZN\n",
      "META\n",
      "BRK.B\n",
      "LLY\n",
      "AVGO\n",
      "V\n",
      "JPM\n",
      "TSLA\n",
      "WMT\n",
      "XOM\n",
      "\n",
      "UNHMA\n",
      "PG\n",
      "JNJ\n",
      "HD\n",
      "ORCL\n",
      "MRK\n",
      "COST\n",
      "ABBV\n",
      "CVX\n",
      "BAC\n",
      "CRM\n",
      "NFLX\n",
      "KO\n",
      "AMD\n",
      "PEP\n",
      "ADBE\n",
      "TMO\n",
      "DIS\n",
      "WFC\n",
      "MCD\n",
      "CSCO\n",
      "\n",
      "TMUSABT\n",
      "QCOM\n",
      "CAT\n",
      "DHR\n",
      "\n",
      "INTUGE\n",
      "IBM\n",
      "VZ\n",
      "AMAT\n",
      "AXP\n",
      "CMCSA\n",
      "NOW\n",
      "COP\n",
      "INTC\n",
      "TXN\n",
      "\n",
      "UBERBX\n",
      "MS\n",
      "PFE\n",
      "NKE\n",
      "AMGN\n",
      "PM\n",
      "UNP\n",
      "RTX\n",
      "ISRG\n",
      "SPGI\n",
      "\n",
      "GSLOW\n",
      "NEE\n",
      "MU\n",
      "SCHW\n",
      "SYK\n",
      "HON\n",
      "PGR\n",
      "UPS\n",
      "LRCX\n",
      "ELV\n",
      "BKNG\n",
      "T\n",
      "BLK\n",
      "C\n",
      "DE\n",
      "LMT\n",
      "TJX\n",
      "BA\n",
      "ABNB\n",
      "VRTX\n",
      "BSX\n",
      "ADP\n",
      "PLD\n",
      "CI\n",
      "SBUX\n",
      "REGN\n",
      "MMC\n",
      "BMY\n",
      "ADI\n",
      "PANW\n",
      "MDLZ\n",
      "KLAC\n",
      "SCCO\n",
      "FI\n",
      "CVS\n",
      "DELL\n"
     ]
    }
   ],
   "source": [
    "orders=trader.generate_orders(trades,prices,positions)"
   ]
  },
  {
   "cell_type": "code",
   "execution_count": 16,
   "metadata": {},
   "outputs": [
    {
     "data": {
      "text/plain": [
       "{'symbol': 'MSFT',\n",
       " 'qty': -16.0,\n",
       " 'notional': None,\n",
       " 'side': <OrderSide.BUY: 'buy'>,\n",
       " 'type': <OrderType.MARKET: 'market'>,\n",
       " 'time_in_force': <TimeInForce.DAY: 'day'>,\n",
       " 'order_class': None,\n",
       " 'extended_hours': None,\n",
       " 'client_order_id': None,\n",
       " 'take_profit': None,\n",
       " 'stop_loss': None,\n",
       " 'position_intent': None}"
      ]
     },
     "execution_count": 16,
     "metadata": {},
     "output_type": "execute_result"
    }
   ],
   "source": [
    "from Ipython import display\n",
    "\n",
    "orders\n"
   ]
  },
  {
   "cell_type": "code",
   "execution_count": 175,
   "metadata": {},
   "outputs": [
    {
     "data": {
      "text/plain": [
       "{'AAPL': {   'ask_exchange': 'P',\n",
       "     'ask_price': 169.7,\n",
       "     'ask_size': 11.0,\n",
       "     'bid_exchange': 'P',\n",
       "     'bid_price': 169.6,\n",
       "     'bid_size': 17.0,\n",
       "     'conditions': ['R'],\n",
       "     'symbol': 'AAPL',\n",
       "     'tape': 'C',\n",
       "     'timestamp': datetime.datetime(2024, 4, 26, 23, 59, 32, 341086, tzinfo=TzInfo(UTC))}}"
      ]
     },
     "execution_count": 175,
     "metadata": {},
     "output_type": "execute_result"
    }
   ],
   "source": [
    "trader.client.get_stock_latest_quote(StockLatestQuoteRequest(symbol_or_symbols='AAPL',feed='sip'))\n"
   ]
  },
  {
   "cell_type": "code",
   "execution_count": 74,
   "metadata": {},
   "outputs": [
    {
     "data": {
      "text/html": [
       "<div>\n",
       "<style scoped>\n",
       "    .dataframe tbody tr th:only-of-type {\n",
       "        vertical-align: middle;\n",
       "    }\n",
       "\n",
       "    .dataframe tbody tr th {\n",
       "        vertical-align: top;\n",
       "    }\n",
       "\n",
       "    .dataframe thead th {\n",
       "        text-align: right;\n",
       "    }\n",
       "</style>\n",
       "<table border=\"1\" class=\"dataframe\">\n",
       "  <thead>\n",
       "    <tr style=\"text-align: right;\">\n",
       "      <th></th>\n",
       "    </tr>\n",
       "  </thead>\n",
       "  <tbody>\n",
       "  </tbody>\n",
       "</table>\n",
       "</div>"
      ],
      "text/plain": [
       "Empty DataFrame\n",
       "Columns: []\n",
       "Index: []"
      ]
     },
     "execution_count": 74,
     "metadata": {},
     "output_type": "execute_result"
    }
   ],
   "source": [
    "bars"
   ]
  },
  {
   "cell_type": "code",
   "execution_count": null,
   "metadata": {},
   "outputs": [],
   "source": []
  }
 ],
 "metadata": {
  "kernelspec": {
   "display_name": "Python 3",
   "language": "python",
   "name": "python3"
  },
  "language_info": {
   "codemirror_mode": {
    "name": "ipython",
    "version": 3
   },
   "file_extension": ".py",
   "mimetype": "text/x-python",
   "name": "python",
   "nbconvert_exporter": "python",
   "pygments_lexer": "ipython3",
   "version": "3.11.8"
  }
 },
 "nbformat": 4,
 "nbformat_minor": 2
}
